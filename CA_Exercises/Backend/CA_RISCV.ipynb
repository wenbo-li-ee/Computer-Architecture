{
 "cells": [
  {
   "cell_type": "markdown",
   "id": "24f3294d-c044-4048-b25f-9cb167f3a952",
   "metadata": {
    "tags": []
   },
   "source": [
    "# **Openlane backend flow with OpenRAM macros**\n",
    "\n",
    "#### **Objectives**\n",
    "- Synthesize the simulated RTL project.\n",
    "- Replace and harden those \"fake\" sram modules in Verilog with OpenRAM onto the floorplan.\n",
    "- Finish the [Openlane](https://openlane.readthedocs.io/en/latest/flow_overview.html) hardware backend flow.\n",
    "- Analyze the results step-by-step and have a basic understanding of the RTL-to-GDSII procedure.\n",
    "\n",
    "#### <span style=\"color:green\">**Tips**</span>  \n",
    "- The entire CA exercise session requires ESAT IT infrastructure to achieve full functionalities, such as the Calibre simulator.\n",
    "- However, this **Backend** session is fully open-source-based. Hence, you can also set up the environment on any linux system.\n",
    "    - The `conda-env` build takes up **$\\sim$3 GB**. Each full-flow execution will generate **4$\\sim$6 GB** output data under `runs/`. \n",
    "    - Hence, if your ESAT disk quota is not sufficient, you can conduct this part of experiments on your own device after you have completed debugging your RTL code.\n",
    "\n",
    "<img src=\"./Figs/flow_v1.png\" width=720 />"
   ]
  },
  {
   "cell_type": "markdown",
   "id": "a0b10eb5-582a-4728-91e1-6dce4bcfafe8",
   "metadata": {},
   "source": [
    "### **Helper functions and scripts**"
   ]
  },
  {
   "cell_type": "code",
   "execution_count": null,
   "id": "9870ea53-bbf5-45b5-8f00-9e41ccdf0d80",
   "metadata": {
    "tags": []
   },
   "outputs": [],
   "source": [
    "import os, time\n",
    "import matplotlib.pyplot as plt\n",
    "import seaborn as sns\n",
    "from pandas.core.frame import DataFrame\n",
    "import pandas as pd\n",
    "pd.set_option('precision', 3)\n",
    "pd.set_option('display.width', 200)\n",
    "pd.set_option('max_colwidth', 90)"
   ]
  },
  {
   "cell_type": "code",
   "execution_count": null,
   "id": "9375d15f-496b-48d3-a64a-3c2bc7eb5c7e",
   "metadata": {
    "tags": []
   },
   "outputs": [],
   "source": [
    "from IPython.core.magic import register_line_cell_magic\n",
    "\n",
    "@register_line_cell_magic\n",
    "def writetemplate(line, cell):\n",
    "    with open(line, 'w') as f:\n",
    "        f.write(cell.format(**globals()))"
   ]
  },
  {
   "cell_type": "code",
   "execution_count": null,
   "id": "5da7cdc4-7ae2-4ac3-8a63-06e340bed5b1",
   "metadata": {
    "tags": []
   },
   "outputs": [],
   "source": [
    "%%writetemplate openlane_visualization.sh\n",
    "\n",
    "source setup.sh\n",
    "flow.tcl -interactive -file interactive.ol\n"
   ]
  },
  {
   "cell_type": "code",
   "execution_count": null,
   "id": "865e2b91-b1a3-4c56-9b19-60219b53d30e",
   "metadata": {
    "tags": []
   },
   "outputs": [],
   "source": [
    "%%writetemplate interactive.ol\n",
    "\n",
    "# placeholder"
   ]
  },
  {
   "cell_type": "markdown",
   "id": "6f699d94-fa3a-4270-847e-2a61b7c0a2b7",
   "metadata": {},
   "source": [
    "### **Project-specific Environment Variables**\n",
    "- Please modify the `RTL_PATH` -> `NID`, `EXTRA_MACRO_PATH`, and `DESIGN_NAME` to locate your project source.\n",
    "- You can also toggle `CORE_NUM`, `TAG`, etc if you like. \n",
    "    - The `CORE_NUM` is the number of thread in the computer that will be used for speeding up the backend flow. \n",
    "    - `TAG` is the identification of the run, which later you can see in your ./runs/ folder. Note that to prevent different backend flow runs from overwriting, `TAG` need to be updated either by running the below block again or manually update it yourself. \n",
    "- Please also speficy a `CLOCK_PERIOD` to your desired speed (Default: 10 MHz)."
   ]
  },
  {
   "cell_type": "code",
   "execution_count": null,
   "id": "80c4709b-3967-47f1-890f-9a75eec81f40",
   "metadata": {
    "tags": []
   },
   "outputs": [],
   "source": [
    "# Project-specific Environment Variables\n",
    "\n",
    "NID = \"SOLUTION1_simple_program_and_MULT1\"\n",
    "# NID = \"SOLUTION2_multiplication_support_MULT2\"\n",
    "# NID = \"SOLUTION3_pipeline_basic_MULT2\"\n",
    "# NID = \"SOLUTION4_pipeline_hazard_MULT3\"\n",
    "# NID = \"SOLUTION5_pipeline_hazard_advanced_MULT4\"\n",
    "\n",
    "TAG = \"{}_{}\".format(time.strftime(\"%y%m%d-%H%M%S\", time.localtime()), NID)\n",
    "CORE_NUM = os.popen(\"nproc\").read().split(\"\\n\")[0]\n",
    "\n",
    "DESIGN_NAME = \"cpu\"\n",
    "CLOCK_PERIOD = 100 # in nanoseconds\n",
    "RTL_PATH = f\"../Verilog/RTL_{NID}\"\n",
    "EXTRA_MACRO_PATH = \"OpenRAM_output\"\n",
    "\n",
    "# OpenRAM Macro Path\n",
    "# LEF files are abstract representations of hard macroblocks, such as OpenRAM macros.\n",
    "EXTRA_LEFS = ' '.join(os.popen(\"find {} -name \\\"*.lef\\\" -maxdepth 1\".format(EXTRA_MACRO_PATH, )).read().split(\"\\n\")[:-1])\n",
    "# Configure the GDS files of the hard macro.\n",
    "EXTRA_GDS_FILES = ' '.join(os.popen(\"find {} -name \\\"*.gds\\\" -maxdepth 1\".format(EXTRA_MACRO_PATH, )).read().split(\"\\n\")[:-1])\n",
    "# Liberty flow contains the timings and description of I/O of the macro. It is used in Timing analysis and in synthesis.\n",
    "EXTRA_LIBS = ' '.join(os.popen(\"find {} -name \\\"*.lib\\\" -maxdepth 1\".format(EXTRA_MACRO_PATH, )).read().split(\"\\n\")[:-1])\n",
    "\n",
    "%env TAG = {TAG}\n",
    "%env DESIGN_NAME = {DESIGN_NAME}\n",
    "%env CORE_NUM = {CORE_NUM}"
   ]
  },
  {
   "cell_type": "markdown",
   "id": "d5a7f20e-bfe4-4904-bfcc-4e550fd84a0f",
   "metadata": {
    "tags": []
   },
   "source": [
    "## **Synthesis Stage #1**\n",
    "- The first decision in synthesis is determining the optimal synthesis strategy `SYNTH_STRATEGY` for your design.\n",
    "- Openlane has several presets during the optimization of synthesis, in terms of the **AREA/DELAY** tradeoff.\n",
    "- There are in total 9 [presets](https://openlane.readthedocs.io/en/latest/reference/configuration.html#synthesis) `DELAY 0-4/AREA 0-3`, which can be explored via command-line option `-synth_explore`. \n",
    "- It depends on your RTL design which preset has the best outcome."
   ]
  },
  {
   "cell_type": "code",
   "execution_count": null,
   "id": "8c17c512-a5c6-47e0-9cca-9a4445617c2e",
   "metadata": {
    "tags": []
   },
   "outputs": [],
   "source": [
    "RUN_SYNTH_EXPLORATION = False"
   ]
  },
  {
   "cell_type": "markdown",
   "id": "fd84c785-fe47-41b3-a972-0d39e5ecd5b5",
   "metadata": {},
   "source": [
    "### **Syn-1.1 Update the Openlane Configuration**\n",
    "- Initial configuration."
   ]
  },
  {
   "cell_type": "code",
   "execution_count": null,
   "id": "bbb36216-3353-4e26-badb-92fb50325a64",
   "metadata": {
    "tags": []
   },
   "outputs": [],
   "source": [
    "%%writetemplate config.tcl\n",
    "\n",
    "set ::env(STD_CELL_LIBRARY) \"sky130_fd_sc_hd\"\n",
    "\n",
    "set ::env(DESIGN_NAME) {DESIGN_NAME}\n",
    "set ::env(VERILOG_FILES) {RTL_PATH}/*.v\n",
    "set ::env(CLOCK_PORT) \"clk\"\n",
    "set ::env(CLOCK_NET) \"clk\"\n",
    "set ::env(CLOCK_PERIOD) {CLOCK_PERIOD}\n",
    "set ::env(CLOCK_TREE_SYNTH) 1\n",
    "\n",
    "set ::env(DESIGN_IS_CORE) 1      \n",
    "set ::env(SYNTH_MAX_FANOUT) 30\n",
    "\n",
    "# Connect the layout files and abstracts\n",
    "# Connect the blackbox information and timing data\n",
    "set ::env(EXTRA_LEFS)      [list {EXTRA_LEFS}]\n",
    "set ::env(EXTRA_GDS_FILES) [list {EXTRA_GDS_FILES}]\n",
    "set ::env(EXTRA_LIBS)      [list {EXTRA_LIBS}]\n",
    "\n",
    "set ::env(BASE_SDC_FILE) H05d4a.sdc"
   ]
  },
  {
   "cell_type": "markdown",
   "id": "a03dcd14-cc3f-4451-be15-e90b9520ddce",
   "metadata": {},
   "source": [
    "### **Syn-1.2 Trigger the Openlane Execution (Synthesis Exploration)**\n",
    "- We put these results aside the main `runs/` folder for you to check later at anytime."
   ]
  },
  {
   "cell_type": "code",
   "execution_count": null,
   "id": "7eb51b93-5bde-4a9d-b0ee-7d7bf022806a",
   "metadata": {
    "tags": []
   },
   "outputs": [],
   "source": [
    "if RUN_SYNTH_EXPLORATION:\n",
    "    !flow.tcl -design . -ignore_mismatches -tag $TAG-synth_explore -overwrite -synth_explore -to synthesis"
   ]
  },
  {
   "cell_type": "markdown",
   "id": "4c2e4f9c-2da6-46a7-80cc-60c7b3967105",
   "metadata": {},
   "source": [
    "### **Syn-1.3 Synthesis Exploration Analysis**\n",
    "- The **Synthesis Exploration** is considered as **stage-0** in the OpenLane procedure.\n",
    "    - You will first get a summary table showing the tradeoff of these presets on your design.\n",
    "    - We also provide a pie-chart plotting function below for you to analyze the detailed cell-amount breakdown on different presets (By setting `STRATEGY_list` and `PLOT_TOP_K`). \n",
    "- You will get an insight of how different **synthesis optimizations** and **standard cell mapping methods** would impact the hardware overhead. "
   ]
  },
  {
   "cell_type": "code",
   "execution_count": null,
   "id": "9b7e184a-01ef-4faa-a178-6a20b52fedc4",
   "metadata": {
    "tags": []
   },
   "outputs": [],
   "source": [
    "if RUN_SYNTH_EXPLORATION:\n",
    "    # Summary Table\n",
    "    from IPython.display import HTML\n",
    "    HTML(filename=f\"runs/{TAG}-synth_explore/reports/synthesis/0-exploration_analysis.html\")"
   ]
  },
  {
   "cell_type": "code",
   "execution_count": null,
   "id": "2dfefbcd-9655-46be-9dd5-8a12074cc520",
   "metadata": {
    "tags": []
   },
   "outputs": [],
   "source": [
    "if RUN_SYNTH_EXPLORATION:\n",
    "    # Cell Breakdown Pie Chart\n",
    "    STRATEGY_list=[\"AREA_3\", \"AREA_1\"] # modify the list to your interest, according to the summary table\n",
    "    PLOT_TOP_K = 10 # select top-K values \n",
    "\n",
    "    from operator import itemgetter\n",
    "    def make_autopct(values):\n",
    "        def my_autopct(pct):\n",
    "            total = sum(values)\n",
    "            val = int(round(pct*total/100.0))\n",
    "            return '{p:.1f}%\\n({v:d})'.format(p=pct,v=val)\n",
    "        return my_autopct\n",
    "    colors = sns.color_palette(\"YlOrBr\")\n",
    "\n",
    "    for strategy in STRATEGY_list:\n",
    "        with open(f\"runs/{TAG}-synth_explore/reports/synthesis/0-synthesis.{strategy}.stat.rpt\", \"r\") as f:\n",
    "            _dict = {}\n",
    "            for _lines in f.readlines():\n",
    "                _tmp_list = _lines.split()\n",
    "                if len(_tmp_list) > 1:\n",
    "                    if \"cells:\" in _tmp_list:\n",
    "                        _rpt_cells_sum = int(_tmp_list[-1])\n",
    "                    if \"sky130\" in _tmp_list[0]:\n",
    "                        _dict[_tmp_list[0]] = int(_tmp_list[1])\n",
    "            _sorted_dict = {key:value for key, value in sorted(_dict.items(), key=lambda x: x[-1], reverse=True)}\n",
    "            _TOP_K_dict_key_list = list(_sorted_dict.keys())[:PLOT_TOP_K]\n",
    "            _TOP_K_dict_key_list_simple = [k.split(\"sky130_fd_sc_hd_\")[-1] for k in _TOP_K_dict_key_list]\n",
    "            _labels_union = _TOP_K_dict_key_list_simple + [\"other_cells\"]\n",
    "\n",
    "            _data = list(itemgetter(*_TOP_K_dict_key_list)(_dict))\n",
    "            _data.append(_rpt_cells_sum- sum(_data))\n",
    "\n",
    "            plt.figure(figsize=(7,7))\n",
    "            plt.pie(x=_data, labels=_labels_union, colors=colors, startangle=180, counterclock=0, autopct=make_autopct(_data), pctdistance=0.8)\n",
    "            plt.title(\"[{}] Cell Overhead Breakdown: Top-{} Ratio & (Cell Amount)\".format(strategy, PLOT_TOP_K))\n",
    "            plt.show()"
   ]
  },
  {
   "cell_type": "markdown",
   "id": "4fb2ac20-50c2-4338-8c7a-a48d5c8983d3",
   "metadata": {
    "tags": []
   },
   "source": [
    "## **Synthesis Stage #2**\n",
    "- Perform the first **synthesis-only** run.\n",
    "    - Check the generated design under folder: `runs/{TAG}/results/synthesis`.\n",
    "    - Check the reports under folder: `runs/{TAG}/reports/synthesis`.\n",
    "    - Check the logs under folder: `runs/{TAG}/logs/synthesis`."
   ]
  },
  {
   "cell_type": "markdown",
   "id": "530df231-755b-4567-9908-9f39726b43f9",
   "metadata": {},
   "source": [
    "### **Syn-2.1 Update the Openlane Configuration**\n",
    "- From the results of **Synthesis Stage #1**, you can now choose a synthesis preset as `SYNTH_STRATEGY` in the next ***config.tcl***, by default `AREA 0` is used.\n",
    "- To provide a human-readable format in critical-path analysis, we also use `SYNTH_NO_FLAT` from now on to preserve hierarchical RTL module names in the STA/area reports."
   ]
  },
  {
   "cell_type": "code",
   "execution_count": null,
   "id": "56374bae-7519-41f9-be13-10f150b5fce5",
   "metadata": {
    "tags": []
   },
   "outputs": [],
   "source": [
    "# DELAY 0-4/AREA 0-3\n",
    "SYNTH_STRATEGY = \"\\\"AREA 0\\\"\""
   ]
  },
  {
   "cell_type": "code",
   "execution_count": null,
   "id": "fed04445-0e64-4dea-aa40-0ecfe644af7b",
   "metadata": {
    "tags": []
   },
   "outputs": [],
   "source": [
    "%%writetemplate config.tcl\n",
    "\n",
    "set ::env(STD_CELL_LIBRARY) \"sky130_fd_sc_hd\"\n",
    "\n",
    "set ::env(DESIGN_NAME) {DESIGN_NAME}\n",
    "set ::env(VERILOG_FILES) {RTL_PATH}/*.v\n",
    "set ::env(CLOCK_PORT) \"clk\"\n",
    "set ::env(CLOCK_NET) \"clk\"\n",
    "set ::env(CLOCK_PERIOD) {CLOCK_PERIOD}\n",
    "set ::env(CLOCK_TREE_SYNTH) 1\n",
    "\n",
    "set ::env(DESIGN_IS_CORE) 1      \n",
    "set ::env(SYNTH_MAX_FANOUT) 30\n",
    "\n",
    "set ::env(SYNTH_STRATEGY) {SYNTH_STRATEGY}\n",
    "set ::env(SYNTH_NO_FLAT) 1\n",
    "\n",
    "# Connect the layout files and abstracts\n",
    "# Connect the blackbox information and timing data\n",
    "set ::env(EXTRA_LEFS)      [list {EXTRA_LEFS}]\n",
    "set ::env(EXTRA_GDS_FILES) [list {EXTRA_GDS_FILES}]\n",
    "set ::env(EXTRA_LIBS)      [list {EXTRA_LIBS}]\n",
    "\n",
    "set ::env(BASE_SDC_FILE) H05d4a.sdc"
   ]
  },
  {
   "cell_type": "markdown",
   "id": "20972122-954a-4c02-8668-fca0f58e291c",
   "metadata": {},
   "source": [
    "### **Syn-2.2 Trigger the Openlane Execution (Synthesis)**"
   ]
  },
  {
   "cell_type": "code",
   "execution_count": null,
   "id": "7bb30c4d-7ebd-49d0-b49d-826426bd43c1",
   "metadata": {
    "tags": []
   },
   "outputs": [],
   "source": [
    "!flow.tcl -design . -ignore_mismatches -tag $TAG -overwrite -to synthesis"
   ]
  },
  {
   "cell_type": "markdown",
   "id": "75671ae6-2307-43f4-8b1a-778054b5a5a9",
   "metadata": {},
   "source": [
    "### **Syn-2.3 Synthesized Timing&Area Analysis**\n",
    "- For the **Synthesis** stage\n",
    "    - Hierarchical and Flattened RTL is stored in `runs/{TAG}/results/synthesis`.\n",
    "    - Timing and Area summary is in `runs/{TAG}/reports/synthesis`.\n",
    "    - Hierarchical Area/Cell report can be extracted from `runs/{TAG}/logs/synthesis/1-synthesis.log` as shown in the next code blocks.\n",
    "- For the following stages, RTL-Gen and STA will be performed multiple times. The resulting output files can be analyzed with the same methods."
   ]
  },
  {
   "cell_type": "code",
   "execution_count": null,
   "id": "083fe30c-a72d-44a9-98d9-e9b539e85e4f",
   "metadata": {
    "tags": []
   },
   "outputs": [],
   "source": [
    "# Extract the hierarchical area report of modules\n",
    "LOG_PATH = f\"./runs/{TAG}/logs/synthesis/1-synthesis.log\"\n",
    "\n",
    "_stdout = os.popen(f\"grep -rn \\\"Chip area for module\\\" {LOG_PATH}\").read()\n",
    "_stdout = [_str.split() for _str in _stdout.split(\"\\n\")]\n",
    "_df = DataFrame(_stdout[:-1]).drop(columns=[1,2,3,4])\n",
    "_df.rename(columns={0:\"Line #\", 5:\"Module Name\", 6:\"Area(um^2)\"}, inplace=True)\n",
    "_df[\"Area(um^2)\"] = _df[\"Area(um^2)\"].astype(float)\n",
    "_df[\"Area(%)\"] = _df.iloc[:, -1] / _df.iloc[-1, -1] * 100\n",
    "\n",
    "print(_df)"
   ]
  },
  {
   "cell_type": "markdown",
   "id": "d32c40b1-4103-4d96-885d-dfd40f8e1283",
   "metadata": {},
   "source": [
    "## **Floorplan Stage #1 - Initial Floorplan**\n",
    "\n",
    "#### **Objectives**\n",
    "- Obtain the synthesized macro module names from ***runs/{TAG}/results/synthesis/{DESIGN_NAME}.v***.\n",
    "- Generate the configuration string **FP_PDN_MACRO_HOOKS** for Power/Ground PDN (*Power Distribution Network*) connections with these macro module names.\n",
    "- Add floorplan settings to the ***config.tcl*** file."
   ]
  },
  {
   "cell_type": "code",
   "execution_count": null,
   "id": "d89a1d1b-59bd-4978-a017-8d74332f9791",
   "metadata": {
    "tags": []
   },
   "outputs": [],
   "source": [
    "# Add the PDN connections between SRAM cells and the power/ground nets.\n",
    "# Syntax: <instance_name> <vdd_net> <gnd_net> <vdd_pin> <gnd_pin>\n",
    "\n",
    "sram_macro_list = [\"sky130_sram_2rw_32x128_32\", \"sky130_sram_2rw_64x128_64\"]\n",
    "VDD_NETS = \"vccd1\"\n",
    "GND_NETS = \"vssd1\"\n",
    "\n",
    "FP_PDN_MACRO_HOOKS = \"\"\n",
    "SRAM_MACRO_NAMES = []\n",
    "for macro_name in sram_macro_list:\n",
    "    _stdout = os.popen(f\"grep -rn {macro_name} ./runs/$TAG/results/synthesis/{DESIGN_NAME}.v\").read()\n",
    "    print(\"Found macro instance:\\n{}\".format(_stdout))\n",
    "    _name = _stdout.split(\"\\\\\")[-1].split(\" \")[0]\n",
    "    _name = _name.replace(_name.split(\".\")[1], \"*\")\n",
    "    FP_PDN_MACRO_HOOKS += \" \"\\\n",
    "        + _name \\\n",
    "        + f\"      {VDD_NETS} {GND_NETS} {VDD_NETS} {GND_NETS},\\\\\\n\"  \n",
    "    SRAM_MACRO_NAMES.append(_name)\n",
    "FP_PDN_MACRO_HOOKS = FP_PDN_MACRO_HOOKS.strip(\",\\\\\\n\").replace(\"[\", \"\\\\[\").replace(\"]\", \"\\\\]\")\n",
    "\n",
    "\n",
    "print(\"Adding configurations:\\n\\nset ::env(FP_PDN_MACRO_HOOKS) \\\"\\\\\\n{}\\\"\".format(FP_PDN_MACRO_HOOKS))"
   ]
  },
  {
   "cell_type": "markdown",
   "id": "423b3d9b-c725-4ae8-9d72-1c5dc47f10c8",
   "metadata": {},
   "source": [
    "### **FP-1.1 Update the Openlane Configuration**"
   ]
  },
  {
   "cell_type": "code",
   "execution_count": null,
   "id": "b4b762ac-a284-4daa-84cd-334c0ac3e63a",
   "metadata": {
    "tags": []
   },
   "outputs": [],
   "source": [
    "%%writetemplate config.tcl\n",
    "\n",
    "set ::env(STD_CELL_LIBRARY) \"sky130_fd_sc_hd\"\n",
    "\n",
    "set ::env(DESIGN_NAME) {DESIGN_NAME}\n",
    "set ::env(VERILOG_FILES) {RTL_PATH}/*.v\n",
    "set ::env(CLOCK_PORT) \"clk\"\n",
    "set ::env(CLOCK_NET) \"clk\"\n",
    "set ::env(CLOCK_PERIOD) {CLOCK_PERIOD}\n",
    "set ::env(CLOCK_TREE_SYNTH) 1\n",
    "\n",
    "set ::env(DESIGN_IS_CORE) 1      \n",
    "set ::env(SYNTH_MAX_FANOUT) 30\n",
    "\n",
    "set ::env(SYNTH_STRATEGY) {SYNTH_STRATEGY}\n",
    "set ::env(SYNTH_NO_FLAT) 1\n",
    "\n",
    "# Connect the layout files and abstracts\n",
    "# Connect the blackbox information and timing data\n",
    "set ::env(EXTRA_LEFS)      [list {EXTRA_LEFS}]\n",
    "set ::env(EXTRA_GDS_FILES) [list {EXTRA_GDS_FILES}]\n",
    "set ::env(EXTRA_LIBS)      [list {EXTRA_LIBS}]\n",
    "\n",
    "set ::env(BASE_SDC_FILE) H05d4a.sdc\n",
    "\n",
    "# SRAM config\n",
    "set ::env(VDD_NETS) \"vccd1\"\n",
    "set ::env(GND_NETS) \"vssd1\"\n",
    "set ::env(FP_PDN_MACRO_HOOKS) \"\\\n",
    "{FP_PDN_MACRO_HOOKS}\"\n",
    "\n",
    "# Some floorplan empirical parameters\n",
    "set ::env(FP_CORE_UTIL) 35\n",
    "set ::env(FP_SIZING) relative\n",
    "set ::env(PL_MACRO_CHANNEL) [list 80 80]"
   ]
  },
  {
   "cell_type": "markdown",
   "id": "e51c6ba3-ef73-4e6c-a240-4bc7b7435693",
   "metadata": {},
   "source": [
    "### **FP-1.2 Trigger the Openlane Execution (Floorplan)**"
   ]
  },
  {
   "cell_type": "code",
   "execution_count": null,
   "id": "772a0925-65ca-4d82-a6fd-3c3b6ff9d0e3",
   "metadata": {
    "tags": []
   },
   "outputs": [],
   "source": [
    "!flow.tcl -design . -ignore_mismatches -tag $TAG -overwrite -to floorplan"
   ]
  },
  {
   "cell_type": "markdown",
   "id": "5247b7c4-3693-4139-9502-bc65eaf9aa7c",
   "metadata": {},
   "source": [
    "### **Update the Helper Script**"
   ]
  },
  {
   "cell_type": "code",
   "execution_count": null,
   "id": "49c4db63-e569-479f-a1d3-a9ec60654426",
   "metadata": {
    "tags": []
   },
   "outputs": [],
   "source": [
    "%%writetemplate interactive.ol\n",
    "\n",
    "package require openlane\n",
    "prep -design . -ignore_mismatches -tag {TAG}\n",
    "set_odb ./runs/{TAG}/results/floorplan/{DESIGN_NAME}.odb\n",
    "set_def ./runs/{TAG}/results/floorplan/{DESIGN_NAME}.def\n",
    "or_gui\n"
   ]
  },
  {
   "cell_type": "markdown",
   "id": "59a7db3c-609c-4380-b069-8d193b12cf00",
   "metadata": {},
   "source": [
    "## **Floorplan Stage #2 - GUI check**\n",
    "- Switch to a graphical environment to continue for GUI display (PC mornitor/VNC/...).\n",
    "- Open a command-line console under the same project folder and `source setup.sh` again.\n",
    "- Use the command `source openlane_visualization.sh` to invoke the OpenROAD GUI and have a look at your 1st version of floorplan.\n",
    "- In the poped-up OpenROAD GUI, you should see the chip layout similar to the example below.\n",
    "    - You can hide/show different layers and toggle the design congestion heatmap from the left toolbar.\n",
    "    - The right toolbar shows the details of the design/netlist.\n",
    "    - Look at how the cells are distributed across the chip. You might notice a unwanted overlapping of cells and macro blocks. **Why?**\n",
    "\n",
    "<img src=\"./Figs/floorplan_0_ref.png\" width=800 align=center />"
   ]
  },
  {
   "cell_type": "markdown",
   "id": "77cf36e5-142f-45cd-bcc5-b4c950a13515",
   "metadata": {},
   "source": [
    "## **Floorplan Stage #3 - Macro Placement [Optional]**\n",
    "- In this tutorial, we use automatical floorplan and placement by using `FP_CORE_UTIL` and `PL_MACRO_CHANNEL`. However, it is also possible to assign the floorplan manually. \n",
    "- Manual macro placement is useful for easier and better place-and-route process, especially for large designs with more macro blocks.\n",
    "- For example, if your instruction memory is composed of **2** 32x128 macro blocks, it is preferred to put them together rather than automatically scattering them in different corners like this:\n",
    "\n",
    "<img src=\"./Figs/macro_1_ref.png\" width=800 align=center />\n",
    "\n",
    "- For more details, please refer to the openlane tutorial [here](https://openlane.readthedocs.io/en/latest/tutorials/openram.html#macrocell-placement).\n",
    "- Following the tutorial, you can also explore this stage yourself by switching to the *config.tcl*'s `# # Option-2: ...` in the **Full Flow** section and re-running the command `!flow.tcl ...`."
   ]
  },
  {
   "cell_type": "markdown",
   "id": "f486ff73-67c0-40ee-ba1f-afed7bf4bd34",
   "metadata": {},
   "source": [
    "Here are some useful references for manual macro placement, including the size of macro instances and the template of macro placement configuration."
   ]
  },
  {
   "cell_type": "code",
   "execution_count": null,
   "id": "8015c0ae-b2b4-4f87-a280-62c94f565a38",
   "metadata": {
    "tags": []
   },
   "outputs": [],
   "source": [
    "# Check the macro Liberty Libs for area information\n",
    "\n",
    "for f_lef in EXTRA_LEFS.split(\" \"):\n",
    "    !grep -n \"MACRO\" {f_lef}\n",
    "    !grep -n \"SIZE\" {f_lef}"
   ]
  },
  {
   "cell_type": "code",
   "execution_count": null,
   "id": "e5e9b7ff-02cf-4876-a94b-d83e5b87629f",
   "metadata": {
    "tags": []
   },
   "outputs": [],
   "source": [
    "%%writetemplate macro_placement.cfg\n",
    "instruction_memory.process_for_mem\\[0\\].dram_inst 100 1500 N\n",
    "data_memory.process_for_mem\\[0\\].spad_inst 100 100 N"
   ]
  },
  {
   "cell_type": "markdown",
   "id": "77582e4a-c250-4deb-a6ca-9569d4ec6ede",
   "metadata": {},
   "source": [
    "You should be able to get any layout you like for the design, such as the two samples below. Although some of the layouts would be troublesome for the other backend stages that follow.\n",
    "\n",
    "<img src=\"./Figs/floorplan_1_ref.png\" width=560 />  <img src=\"./Figs/floorplan_2_ref.png\" width=220 />"
   ]
  },
  {
   "cell_type": "markdown",
   "id": "4527d612-1f97-4e6e-9f52-e87b0383a622",
   "metadata": {},
   "source": [
    "## **Full Flow #4**\n",
    "- Now you have completed the beginning stages to harden macro memory blocks onto your chip.\n",
    "- Let's complete the Tcl Configuration file with some extra backend toggles.\n",
    "- And tigger the flow for an end-to-end execution as follows.\n",
    "\n",
    "<img src=\"./Figs/flow_v1.png\" width=720 />"
   ]
  },
  {
   "cell_type": "markdown",
   "id": "a8084804-fc38-44ac-9fe6-6c60bd8c4f92",
   "metadata": {},
   "source": [
    "### **Full-4.1 Update the Openlane Configuration**\n",
    "- Some options for the **floorplan target core utilization** and **placement target density**.\n",
    "- Some options for the **die-area configuration**.\n",
    "- Some options for the **macro-placement approach**.\n",
    "- Other configurations for backend optimizations and verifications."
   ]
  },
  {
   "cell_type": "code",
   "execution_count": null,
   "id": "20665403-24e8-4422-9703-0b6edb330671",
   "metadata": {
    "tags": []
   },
   "outputs": [],
   "source": [
    "%%writetemplate config.tcl\n",
    "\n",
    "set ::env(STD_CELL_LIBRARY) \"sky130_fd_sc_hd\"\n",
    "\n",
    "set ::env(DESIGN_NAME) {DESIGN_NAME}\n",
    "set ::env(VERILOG_FILES) {RTL_PATH}/*.v\n",
    "\n",
    "set ::env(CLOCK_PORT) \"clk\"\n",
    "set ::env(CLOCK_NET) \"clk\"\n",
    "set ::env(CLOCK_PERIOD) {CLOCK_PERIOD}\n",
    "set ::env(CLOCK_TREE_SYNTH) 1\n",
    "\n",
    "set ::env(DESIGN_IS_CORE) 1      \n",
    "set ::env(SYNTH_MAX_FANOUT) 30\n",
    "set ::env(SYNTH_NO_FLAT) 1\n",
    "\n",
    "set ::env(SYNTH_STRATEGY) {SYNTH_STRATEGY}\n",
    "set ::env(SYNTH_NO_FLAT) 1\n",
    "\n",
    "# Connect the layout files and abstracts\n",
    "# Connect the blackbox information and timing data\n",
    "set ::env(EXTRA_LEFS)      [list {EXTRA_LEFS}]\n",
    "set ::env(EXTRA_GDS_FILES) [list {EXTRA_GDS_FILES}]\n",
    "set ::env(EXTRA_LIBS)      [list {EXTRA_LIBS}]\n",
    "\n",
    "set ::env(BASE_SDC_FILE) H05d4a.sdc\n",
    "\n",
    "# SRAM config\n",
    "set ::env(VDD_NETS) \"vccd1\"\n",
    "set ::env(GND_NETS) \"vssd1\"\n",
    "set ::env(FP_PDN_MACRO_HOOKS) \"\\\n",
    "{FP_PDN_MACRO_HOOKS}\"\n",
    " \n",
    "# Option-?: Some floorplan empirical parameters\n",
    "## floorplan factor that controls the core utilization and the relative die area\n",
    "set ::env(FP_CORE_UTIL) 35\n",
    "# set ::env(FP_CORE_UTIL) 50\n",
    "# set ::env(FP_CORE_UTIL) 65\n",
    "\n",
    "## placement factor that controls the cell density\n",
    "# set ::env(PL_TARGET_DENSITY) 0.65\n",
    "# set ::env(PL_TARGET_DENSITY) 0.75\n",
    "# set ::env(PL_TARGET_DENSITY) 0.85\n",
    "\n",
    "# # Option-1: Auto DIE Area selection\n",
    "set ::env(FP_SIZING) relative\n",
    "# # Option-2: Manual DIE Area config\n",
    "# set ::env(FP_SIZING) absolute\n",
    "# set ::env(DIE_AREA) \"0 0 1400 1400\"\n",
    "\n",
    "# Option-1: Auto Macro Placement\n",
    "set ::env(PL_MACRO_CHANNEL) [list 80 80]\n",
    "# # Option-2: Manual Macro Placement \n",
    "# set ::env(MACRO_PLACEMENT_CFG) macro_placement.cfg\n",
    "\n",
    "# other config\n",
    "set ::env(ROUTING_CORES) {CORE_NUM}\n",
    "set ::env(RUN_KLAYOUT_XOR) 0\n",
    "set ::env(MAGIC_DRC_USE_GDS) 0\n",
    "set ::env(QUIT_ON_MAGIC_DRC) 0    \n",
    "\n",
    "set ::env(PL_RESIZER_TIMING_OPTIMIZATIONS) 1 \n",
    "set ::env(PL_RESIZER_DESIGN_OPTIMIZATIONS) 1  \n",
    "set ::env(PL_RESIZER_REPAIR_TIE_FANOUT) 1  \n",
    "set ::env(GLB_RESIZER_TIMING_OPTIMIZATIONS) 1  \n",
    "set ::env(GLB_RESIZER_DESIGN_OPTIMIZATIONS) 1 \n",
    "\n",
    "set ::env(DIODE_INSERTION_STRATEGY) 3\n",
    "set ::env(QUIT_ON_LONG_WIRE) 1 "
   ]
  },
  {
   "cell_type": "markdown",
   "id": "54e6f040-35b1-4528-920d-0274cdcdcfed",
   "metadata": {},
   "source": [
    "### **Full-4.2 Trigger the Openlane Execution**"
   ]
  },
  {
   "cell_type": "code",
   "execution_count": null,
   "id": "6775f987-d1a0-440b-8b8d-4c048023f635",
   "metadata": {
    "tags": []
   },
   "outputs": [],
   "source": [
    "!flow.tcl -design . -ignore_mismatches -tag $TAG -overwrite"
   ]
  },
  {
   "cell_type": "markdown",
   "id": "33e5f99d-b017-443b-81a8-726146ff11c2",
   "metadata": {},
   "source": [
    "### **Full-4.3 Troubleshooting**\n",
    "\n",
    "#### <span style=\"color:red\">**Possible Issues**</span>\n",
    "Please notice that we are leaving everything automatical in the place-and-route. Hence, you might encounter errors in these stages such as \n",
    "```\n",
    "[ERROR GPL-0302] Use a higher -density or re-floorplan with a larger core area. \n",
    "Given target density: 0.55 \n",
    "Suggested target density: 0.56\n",
    "```\n",
    "especially after you implemented complex logics for **session 3**.\n",
    "- The automation of openlane would fail if the constraints are too stringent.\n",
    "- For example, `... target density` means `PL_TARGET_DENSITY`, relative to `FP_CORE_UTIL` in ***config.tcl*** \n",
    "    - [Default](https://openlane.readthedocs.io/en/latest/reference/configuration.html#placement): `PL_TARGET_DENSITY = (FP_CORE_UTIL + 10 + 5 * GPL_CELL_PADDING) / 100.0`. \n",
    "    - It configures the desired placement density of cells. In other words, it reflects how spread the cells would be on the core area.\n",
    "    \n",
    "Here are some qualitative relationship between these tweaks:\n",
    "- **Higher** `PL_TARGET_DENSITY` -> **Smaller** area for logic cell and **Larger** area left for macros -> **Easier** for macro placement while **Harder** for routing (routing congestion).\n",
    "- **Higher** `FP_CORE_UTIL` -> **Smaller** chip area (recall that `set ::env(FP_SIZING) relative`) -> **Harder** to place all the pins and cells (unplaced pins and nets).\n",
    "\n",
    "#### <span style=\"color:green\">**Solutions and Suggestions**</span>  \n",
    "Therefore, you have several choices to correct the flow. \n",
    "- Make more space to allow the automatic placement to succeed.\n",
    "    - Set a denser `PL_TARGET_DENSITY` instead of the default value controlled by `FP_CORE_UTIL`.\n",
    "    - Get a larger `DIE_AREA` by manual setting or by relative `FP_CORE_UTIL` control. \n",
    "- Place the macros manually instead of leaving it to openlane.\n",
    "    - Allow some space in-between to route necessary logics in/out the macro blocks.\n",
    "    - Allow enough space to place-and-route the remaining logics.\n",
    "\n",
    "Please adjust between the `# Option ...` settings in ***config.tcl*** and refer to the previous **Floorplan Stage #3: Macro Placement** to try out these ideas."
   ]
  },
  {
   "cell_type": "markdown",
   "id": "e49be0fe-ece1-4d5d-95d4-5ca9f02cd9b2",
   "metadata": {
    "tags": []
   },
   "source": [
    "## **Analysis and Discussion #5**"
   ]
  },
  {
   "cell_type": "markdown",
   "id": "011210af-b71e-4456-a6d0-e7a7c166e28b",
   "metadata": {},
   "source": [
    "### **Update the Helper Script**"
   ]
  },
  {
   "cell_type": "code",
   "execution_count": null,
   "id": "2cc97b04-0a7c-4737-809e-eccb5554fba1",
   "metadata": {
    "tags": []
   },
   "outputs": [],
   "source": [
    "%%writetemplate interactive.ol\n",
    "\n",
    "package require openlane\n",
    "prep -design . -ignore_mismatches -tag {TAG}\n",
    "set_odb ./runs/{TAG}/results/floorplan/{DESIGN_NAME}.odb\n",
    "set_def ./runs/{TAG}/results/floorplan/{DESIGN_NAME}.def\n",
    "or_gui\n",
    "\n",
    "set_odb ./runs/{TAG}/results/placement/{DESIGN_NAME}.odb\n",
    "set_def ./runs/{TAG}/results/placement/{DESIGN_NAME}.def\n",
    "or_gui\n",
    "\n",
    "set_odb ./runs/{TAG}/results/routing/{DESIGN_NAME}.odb\n",
    "set_def ./runs/{TAG}/results/final/def/{DESIGN_NAME}.def\n",
    "or_gui"
   ]
  },
  {
   "cell_type": "markdown",
   "id": "353aef8e-7e60-4780-96b3-4afe8bcd7bba",
   "metadata": {
    "tags": []
   },
   "source": [
    "- If you have seen `[SUCCESS]: Flow complete.`, congratulations! You have got the final GDS layout for your processor design.\n",
    "- Pay attention to the openlane logs and try to get the overview of how the conversion is carried out step-by-step.\n",
    "- You can also find details of all the stages in the toolchain logs/reports/results under folder ***`runs/{TAG}/`***, which is organized following [this structure](https://openlane.readthedocs.io/en/latest/flow_overview.html#openlane-output). \n",
    "- Use command `source openlane_visualization.sh` again to invoke the OpenROAD GUI and have a look at your 1st version of floorplan. It will show layouts from 3 critical stages. Close the GUI each time you would like to check the layout of next stage.\n",
    "- OpenLane/OpenRAM/Sky130A are both open-source backend tools which are still immature. Try to find those imperfections by analyzing `manufacturability.rpt`, `OpenRAM_output/*.html`, and etc. \n",
    "- Try to complete the corresponding sessions in the project report with what you have learnt from this notebook."
   ]
  },
  {
   "cell_type": "markdown",
   "id": "c98cd54a-285e-481c-94e8-524a8c11bdd3",
   "metadata": {},
   "source": [
    "## **Summary and Take-aways #6**\n",
    "- With this tutorial, you have completed an RTL-to-GDSII chip design procedure, hardening your customized RISC-V processor cores onto a real chip. Congratulations! Theoretically, the green light of chip fabrication is a few verifications away. \n",
    "- The OpenLane/OpenRoad workflow represents a typical hardware backend workflow, which is also a widely-used standard in academia/industry chip fabrication.\n",
    "- This tutorial is powered by open-source PDK/toolchain development efforts that lower the entry barrier of this field, especially for educational purposes.\n",
    "- However, keep in mind that all these tools are still under early design stages, inferier and unstable than commercial softwares like Synopsys and Cadence.\n",
    "- We hope that you could benefit from this exercise session for your future IC development. Good Luck!\n",
    "\n",
    "![SegmentLocal](Figs/flow_steps_demo.gif \"backend_flow_demo\")"
   ]
  },
  {
   "cell_type": "markdown",
   "id": "45279719-c4fb-4e81-ac31-2d44b55a9ef0",
   "metadata": {},
   "source": [
    "- Last but not least, if you would like to have some souvenirs of your own chip design. Please use Screenshot/Save functions embedded in those GUI tools.\n",
    "- The following code will convert the final GDS to PNG images. Feel free to switch it on if you want. Note that it might take extra hours to generate a PNG >100MB from the entire layout."
   ]
  },
  {
   "cell_type": "code",
   "execution_count": null,
   "id": "d53d1b5d-6a86-487a-9b7f-fbee5ef9c7e3",
   "metadata": {
    "tags": []
   },
   "outputs": [],
   "source": [
    "_png_gen_ = False\n",
    "\n",
    "if _png_gen_:\n",
    "    import pathlib\n",
    "    import gdstk\n",
    "    import cairosvg\n",
    "\n",
    "    gdss = sorted(pathlib.Path('runs').glob(f'{TAG}/results/final/gds/*.gds'))\n",
    "    library = gdstk.read_gds(gdss[-1])\n",
    "    top_cells = library.top_level()\n",
    "    top_cells[0].write_svg(f'{DESIGN_NAME}-{TAG}.svg')\n",
    "    cairosvg.svg2png(url=f'{DESIGN_NAME}-{TAG}.svg', write_to=f'{DESIGN_NAME}-{TAG}.png')"
   ]
  },
  {
   "cell_type": "markdown",
   "id": "b4371b3e-97d2-4136-98e9-81d24786134c",
   "metadata": {},
   "source": [
    "## **Debug and Tutorial REFs**\n",
    "- https://openlane.readthedocs.io/en/latest/usage/chip_integration.html?highlight=lvs#hardening-the-full-chip\n",
    "- https://openlane.readthedocs.io/en/latest/reference/index.html"
   ]
  }
 ],
 "metadata": {
  "kernelspec": {
   "display_name": "Python 3 (ipykernel)",
   "language": "python",
   "name": "python3"
  },
  "language_info": {
   "codemirror_mode": {
    "name": "ipython",
    "version": 3
   },
   "file_extension": ".py",
   "mimetype": "text/x-python",
   "name": "python",
   "nbconvert_exporter": "python",
   "pygments_lexer": "ipython3",
   "version": "3.7.16"
  }
 },
 "nbformat": 4,
 "nbformat_minor": 5
}
